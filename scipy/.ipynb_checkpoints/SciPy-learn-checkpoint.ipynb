{
 "cells": [
  {
   "cell_type": "code",
   "execution_count": 2,
   "metadata": {},
   "outputs": [],
   "source": [
    "\"\"\"\n",
    "导入基本库\n",
    "\"\"\"\n",
    "import numpy as np\n",
    "import matplotlib as mpl\n",
    "import matplotlib.pyplot as plt"
   ]
  },
  {
   "cell_type": "code",
   "execution_count": 12,
   "metadata": {},
   "outputs": [
    {
     "name": "stdout",
     "output_type": "stream",
     "text": [
      "[[1 3]\n",
      " [4 4]]\n"
     ]
    }
   ],
   "source": [
    "a = np.concatenate(([3], [0]*5, np.arange(-1, 1.002, 2/9.0)))\n",
    "a = np.c_[[1,4],[3,4]]\n",
    "print(a)"
   ]
  },
  {
   "cell_type": "code",
   "execution_count": 17,
   "metadata": {},
   "outputs": [
    {
     "name": "stdout",
     "output_type": "stream",
     "text": [
      "[array([[1, 2, 3, 4, 5],\n",
      "       [1, 2, 3, 4, 5],\n",
      "       [1, 2, 3, 4, 5],\n",
      "       [1, 2, 3, 4, 5],\n",
      "       [1, 2, 3, 4, 5],\n",
      "       [1, 2, 3, 4, 5]]), array([[ 5,  5,  5,  5,  5],\n",
      "       [ 6,  6,  6,  6,  6],\n",
      "       [ 7,  7,  7,  7,  7],\n",
      "       [ 8,  8,  8,  8,  8],\n",
      "       [ 9,  9,  9,  9,  9],\n",
      "       [10, 10, 10, 10, 10]])]\n",
      "[[[1. 1. 1.]\n",
      "  [3. 3. 3.]\n",
      "  [5. 5. 5.]]\n",
      "\n",
      " [[2. 3. 4.]\n",
      "  [2. 3. 4.]\n",
      "  [2. 3. 4.]]]\n"
     ]
    }
   ],
   "source": [
    "x = [1,2,3,4,5]\n",
    "y = [5,6,7,8,9,10]\n",
    "print(np.meshgrid(x,y))\n",
    "print(np.mgrid[1:6:2, 2:4:3j])"
   ]
  },
  {
   "cell_type": "markdown",
   "metadata": {},
   "source": [
    "## 稀疏矩阵\n",
    "### 如何选择不同的稀疏矩阵\n",
    "不同的稀疏矩阵适用的操作不同。如果想创建一个新的稀疏矩阵，lil_matrix，dok_matrix 和 coo_matrix 会比高效，但是它们不适合做矩阵运算。如果想做矩阵运算，例如矩阵乘法、求逆等，应该用 CSC 或者 CSR 类型的稀疏矩阵。由于在内存中存储顺序的差异，csc_matrix 矩阵更适合取列切片，而 csr_matrix 矩阵更适合用来取行切片。\n"
   ]
  },
  {
   "cell_type": "markdown",
   "metadata": {},
   "source": [
    "### coo_matrix\n",
    "coo_matrix 是最直观的稀疏矩阵定义方式。它的全称是 coordinate sparse matrix，从名字可以看出，它通过非零元素在矩阵中的坐标存储稀疏矩阵。 "
   ]
  },
  {
   "cell_type": "code",
   "execution_count": 44,
   "metadata": {},
   "outputs": [
    {
     "name": "stdout",
     "output_type": "stream",
     "text": [
      "稠密矩阵:\n",
      " [[5 0 0 0 0 0 0]\n",
      " [0 1 1 0 0 0 0]\n",
      " [0 0 0 1 1 0 0]\n",
      " [0 0 0 0 0 1 1]]\n",
      "coo_matrix:\n",
      "   (0, 0)\t5\n",
      "  (1, 1)\t1\n",
      "  (1, 2)\t1\n",
      "  (2, 3)\t1\n",
      "  (2, 4)\t1\n",
      "  (3, 5)\t1\n",
      "  (3, 6)\t1\n",
      "lil_matrix:\n",
      "   (0, 0)\t5\n",
      "  (1, 1)\t1\n",
      "  (1, 2)\t1\n",
      "  (2, 3)\t1\n",
      "  (2, 4)\t1\n",
      "  (3, 5)\t1\n",
      "  (3, 6)\t1\n"
     ]
    }
   ],
   "source": [
    "from scipy import sparse\n",
    "\n",
    "# 创建方法\n",
    "row = np.array([0,0,1,1,2,2,3,3])\n",
    "col = np.array([0,0,1,2,3,4,5,6])\n",
    "data = np.array([1,4,1,1,1,1,1,1])\n",
    "coo = sparse.coo_matrix((data,(row,col)))\n",
    "mat_dense = coo.toarray()\n",
    "print(\"稠密矩阵:\\n\", mat_dense)\n",
    "\n",
    "# 稠密矩阵与稀疏矩阵、稀疏矩阵之间均可互相转换\n",
    "coo_matrix = sparse.coo_matrix(mat_dense)\n",
    "print(\"coo_matrix:\\n\",coo_matrix)\n",
    "lil_matrix = sparse.lil_matrix(coo_matrix)\n",
    "print(\"lil_matrix:\\n\", lil_matrix)"
   ]
  },
  {
   "cell_type": "markdown",
   "metadata": {},
   "source": [
    "### lil_matrix\n",
    "il_matrix 的全称是 row-based linked list sparse matrix 。它包含两个要素：rows 和 data\n",
    "\n",
    "Sparse matrices can be used in arithmetic operations: they support addition, subtraction, multiplication, division, and matrix power.\n",
    "\n",
    "**Advantages of the LIL format**\n",
    "- supports flexible slicing\n",
    "- changes to the matrix sparsity structure are efficient\n",
    "\n",
    "**Disadvantages of the LIL format**\n",
    "- arithmetic operations LIL + LIL are slow (consider CSR or CSC)\n",
    "- slow column slicing (consider CSC)\n",
    "- slow matrix vector products (consider CSR or CSC)\n",
    "\n",
    "**Intended Usage**\n",
    "- LIL is a convenient format for constructing sparse matrices\n",
    "- once a matrix has been constructed, convert to CSR or CSC format for fast arithmetic and matrix vector operations\n",
    "- consider using the COO format when constructing large matrices\n",
    "\n",
    "**Data Structure**\n",
    "- An array (self.rows) of rows, each of which is a sorted list of column indices of non-zero elements.\n",
    "- The corresponding nonzero values are stored in similar fashion in self.data.\n"
   ]
  },
  {
   "cell_type": "code",
   "execution_count": 48,
   "metadata": {},
   "outputs": [
    {
     "data": {
      "text/plain": [
       "array([list([5]), list([1, 1]), list([1, 1]), list([1, 1])], dtype=object)"
      ]
     },
     "execution_count": 48,
     "metadata": {},
     "output_type": "execute_result"
    }
   ],
   "source": [
    "# 只能由其他矩阵转换而来\n",
    "lil_matrix = sparse.lil_matrix(mat_dense)\n",
    "\n",
    "# rows 是一个列表，元素个数为矩阵行数，其中每个元素都是一个列表，代表对应行非零元素的列下标\n",
    "lil_matrix.rows\n",
    "# data 是一个列表，元素个数为矩阵行数，其中每个元素都是一个列表，代表对应行从左到右非零元素的值\n",
    "lil_matrix.data"
   ]
  },
  {
   "cell_type": "markdown",
   "metadata": {},
   "source": [
    "### csc_matrix\n",
    "全称为 Compressed Sparse Column matrix。数据按列存，所以适合做列切片。\n",
    "\n",
    "Sparse matrices can be used in arithmetic operations: they support addition, subtraction, multiplication, division, and matrix power.\n",
    "\n",
    "**Advantages of the CSC format**\n",
    "- efficient arithmetic operations CSC + CSC, CSC * CSC, etc.\n",
    "- efficient column slicing\n",
    "- fast matrix vector products (CSR, BSR may be faster)\n",
    "\n",
    "**Disadvantages of the CSC format**\n",
    "- slow row slicing operations (consider CSR)\n",
    "- changes to the sparsity structure are expensive (consider LIL or DOK)\n",
    "\n",
    "**mat_csc 也有三个要素：data，indices 和 indptr**\n",
    "\n",
    "indptr[i] 和 indptr[i+1] 表示的是第 i 列非零元素在 mat_csc.data 中存储的起止位置，也就是说：mat_csc.data[indptr[i]: indptr[i+1]] 将把矩阵中第 i 列所有非零元素取出来。然而光是取出来还不行，需要把它们安放到不同的行，而 mat_csc.indices 则是存储了这些非零元素对应的行下标：mat_csc.indices[indptr[i]:indptr[i+1]]。"
   ]
  },
  {
   "cell_type": "code",
   "execution_count": 52,
   "metadata": {},
   "outputs": [
    {
     "data": {
      "text/plain": [
       "array([[1, 0, 4],\n",
       "       [0, 0, 5],\n",
       "       [2, 3, 6]])"
      ]
     },
     "execution_count": 52,
     "metadata": {},
     "output_type": "execute_result"
    }
   ],
   "source": [
    "from scipy.sparse import csc_matrix\n",
    "\n",
    "# 初始化方法\n",
    "# 初始化空的 csc_matrix\n",
    "csc_matrix((3, 4), dtype=np.int8).toarray()\n",
    "\n",
    "# 1. csc_matrix((data, (row_ind, col_ind)), [shape=(M, N)])\n",
    "row = np.array([0, 2, 2, 0, 1, 2])\n",
    "col = np.array([0, 0, 1, 2, 2, 2])\n",
    "data = np.array([1, 2, 3, 4, 5, 6])\n",
    "csc_matrix((data, (row, col)), shape=(3, 3)).toarray()\n",
    "\n",
    "# 2. csc_matrix((data, indices, indptr), [shape=(M, N)])\n",
    "indptr = np.array([0, 2, 3, 6])\n",
    "indices = np.array([0, 2, 2, 0, 1, 2])\n",
    "data = np.array([1, 2, 3, 4, 5, 6])\n",
    "csc_matrix((data, indices, indptr), shape=(3, 3)).toarray()"
   ]
  },
  {
   "cell_type": "markdown",
   "metadata": {},
   "source": [
    "### csr_matrix\n",
    "与 csc_matrix 类似。区别：\n",
    "- csc_matrix 数据按行存，适合做行切片\n",
    "- indices 中元素表示位于哪一列"
   ]
  }
 ],
 "metadata": {
  "kernelspec": {
   "display_name": "Python 3",
   "language": "python",
   "name": "python3"
  },
  "language_info": {
   "codemirror_mode": {
    "name": "ipython",
    "version": 3
   },
   "file_extension": ".py",
   "mimetype": "text/x-python",
   "name": "python",
   "nbconvert_exporter": "python",
   "pygments_lexer": "ipython3",
   "version": "3.7.3"
  }
 },
 "nbformat": 4,
 "nbformat_minor": 4
}
